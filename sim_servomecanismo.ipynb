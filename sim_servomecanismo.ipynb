{
 "cells": [
  {
   "cell_type": "markdown",
   "metadata": {
    "deletable": false,
    "editable": false
   },
   "source": [
    "# Simulação - Servomecanismo\n",
    "\n",
    "## UNIFEI - Universidade Federal de Itajubá\n",
    "\n",
    "### Prof. Fernando H. D. Guaracy\n",
    "### 2º Semestre de 2020 - RTE"
   ]
  },
  {
   "cell_type": "code",
   "execution_count": 1,
   "metadata": {
    "deletable": false,
    "editable": false,
    "hide_input": true
   },
   "outputs": [],
   "source": [
    "import numpy as np\n",
    "import math\n",
    "import matplotlib.pyplot as plt\n",
    "import matplotlib.gridspec as gridspec\n",
    "import ipywidgets as widgets\n",
    "from ipywidgets import interact, interactive, fixed, interact_manual\n",
    "from scipy import signal\n",
    "\n",
    "from IPython.display import display, clear_output\n",
    "\n",
    "from scipy.integrate import odeint\n",
    "\n",
    "from matplotlib import animation, rc\n",
    "from IPython.display import HTML\n",
    "\n",
    "%matplotlib inline\n",
    "\n",
    "from pylab import rcParams\n",
    "rcParams['figure.figsize'] = 16, 9"
   ]
  },
  {
   "cell_type": "code",
   "execution_count": 2,
   "metadata": {
    "deletable": false,
    "editable": false,
    "hide_input": true
   },
   "outputs": [],
   "source": [
    "#Configurações da simulação\n",
    "\n",
    "ti = 0.001 #Passo de simulação\n",
    "\n",
    "x0 = 0*math.pi/180 #Posição inicial\n",
    "sp = 90*math.pi/180 #Setpoint"
   ]
  },
  {
   "cell_type": "markdown",
   "metadata": {
    "deletable": false,
    "editable": false
   },
   "source": [
    "### Parâmetros do controlador (ganhos e tempo de amostragem)"
   ]
  },
  {
   "cell_type": "code",
   "execution_count": 3,
   "metadata": {
    "deletable": false,
    "editable": false,
    "hide_input": true,
    "scrolled": true
   },
   "outputs": [
    {
     "data": {
      "application/vnd.jupyter.widget-view+json": {
       "model_id": "888b28d28de64cdc81d5c8ffba1c6b98",
       "version_major": 2,
       "version_minor": 0
      },
      "text/plain": [
       "interactive(children=(FloatSlider(value=2.0, description='Kp', max=10.0, step=0.01), FloatSlider(value=0.0, de…"
      ]
     },
     "metadata": {},
     "output_type": "display_data"
    }
   ],
   "source": [
    "#Parâmetros do controlador\n",
    "def sim_setup(Kp,Ki,Kd,Ta):\n",
    "  return\n",
    "\n",
    "param=interactive(sim_setup,\n",
    "         Kp=widgets.FloatSlider(value=2,min=0.0,max=10.0,step=0.01),\n",
    "         Ki=widgets.FloatSlider(value=0,min=0.0,max=10.0,step=0.01),\n",
    "         Kd=widgets.FloatSlider(value=0,min=0.0,max=10.0,step=0.01),\n",
    "         Ta=widgets.FloatSlider(value=0.02,min=0.02,max=0.1,step=0.01));\n",
    "\n",
    "display(param)"
   ]
  },
  {
   "cell_type": "code",
   "execution_count": 4,
   "metadata": {
    "deletable": false,
    "editable": false,
    "hide_input": true
   },
   "outputs": [],
   "source": [
    "#Modelo do servomecanismo    \n",
    "def servomecanismo(x, t): \n",
    "  global u    \n",
    "\n",
    "  theta, omega = x\n",
    "  dxdt = [omega, 185.75*u - 9.80*omega]\n",
    "      \n",
    "  return dxdt"
   ]
  },
  {
   "cell_type": "code",
   "execution_count": 5,
   "metadata": {
    "deletable": false,
    "editable": false,
    "hide_input": true,
    "scrolled": false
   },
   "outputs": [],
   "source": [
    "#Simulação\n",
    "def simulacao():\n",
    "#Parâmetros do controlador\n",
    "    kp = param.children[0].value\n",
    "    ki = param.children[1].value\n",
    "    kd = param.children[2].value\n",
    "\n",
    "    ta = param.children[3].value\n",
    "\n",
    "    #Inicialização de variáveis\n",
    "    global u, vet_t, vet_u, vet_y    \n",
    "    \n",
    "    vet_t = []\n",
    "    vet_u = []\n",
    "    vet_y = []\n",
    "\n",
    "    c0 = kp + ta/2*ki + kd/ta \n",
    "    c1 = -kp + ta/2*ki - 2*kd/ta    \n",
    "    c2 = kd/ta\n",
    "    \n",
    "    u = 0\n",
    "    u_1 = 0\n",
    "    e = 0\n",
    "    e_1 = 0\n",
    "    e_2 = 0\n",
    "    xz = [[x0, 0],[x0, 0]]\n",
    "    \n",
    "    tacc = 0\n",
    "    #Loop de simulação\n",
    "    for i in range(0,3000,1):\n",
    "      if ta-tacc <= 0:    \n",
    "        tacc = 0\n",
    "        #----Lei de controle------           \n",
    "        e = (sp - xz[1][0])      \n",
    "        \n",
    "        u = u_1 + c0*e + c1*e_1 + c2*e_2\n",
    "        \n",
    "        u_1 = u\n",
    "        e_2 = e_1\n",
    "        e_1 = e\n",
    "        #-Fim da lei de controle----\n",
    "\n",
    "      #----Solução da EDO-------  \n",
    "      xz = odeint(servomecanismo, xz[1][:], [0,ti])  \n",
    "\n",
    "      #----Armazenamento de dados----\n",
    "      vet_t.append(i*ti)\n",
    "      vet_u.append(u)\n",
    "      vet_y.append(xz[1][0])\n",
    "      tacc = tacc+ti;  \n",
    "\n",
    "    #Gera figuras (estáticas)   \n",
    "    plt.subplot(2, 1, 1)\n",
    "    plt.plot(vet_t,np.multiply(np.ones(len(vet_t)),sp*180/math.pi),'k')\n",
    "    plt.plot(vet_t, np.multiply(vet_y,180/math.pi))\n",
    "    plt.ylabel('Ângulo [graus]')\n",
    "    plt.grid(True)\n",
    "\n",
    "    plt.subplot(2, 1, 2)\n",
    "    plt.plot(vet_t, vet_u)\n",
    "    plt.xlabel('Tempo [s]')\n",
    "    plt.ylabel('Tensão [V]')\n",
    "\n",
    "    plt.grid(True)        \n",
    "    return "
   ]
  },
  {
   "cell_type": "code",
   "execution_count": 6,
   "metadata": {
    "deletable": false,
    "editable": false,
    "hide_input": true
   },
   "outputs": [],
   "source": [
    "%%capture\n",
    "\n",
    "#Figuras para animação\n",
    "fig, (ax1, ax2) = plt.subplots(2,1)\n",
    "\n",
    "line1, = ax1.plot([], [], lw=2)\n",
    "line2, = ax2.plot([], [], lw=2, color='r')\n",
    "line = [line1, line2]\n",
    "\n",
    "ax1.set_ylim(x0*180/math.pi, 2*sp*180/math.pi)\n",
    "ax1.set_xlim(0, 3)\n",
    "ax1.grid()\n",
    "ax2.set_ylim(-1.2, 1.2)\n",
    "ax2.set_xlim(-1.2, 1.2)\n",
    "plt.gca().set_aspect('equal', adjustable='box')\n",
    "\n",
    "def init_anim():\n",
    "    line[0].set_data([], [])\n",
    "    line[1].set_data([], [])\n",
    "    return line\n",
    "\n",
    "def animate_func(i):   \n",
    "    x1 = vet_t[0:i*20]\n",
    "    y1 = np.multiply(vet_y[0:i*20],180/math.pi)\n",
    "    x2 = [0,math.cos(vet_y[i*20])]\n",
    "    y2 = [0,math.sin(vet_y[i*20])]\n",
    "    line[0].set_data(x1,y1)\n",
    "    line[1].set_data(x2,y2)\n",
    "    return line\n",
    "\n",
    "def animate_fig():\n",
    "    anim = animation.FuncAnimation(fig, animate_func, init_func=init_anim,\n",
    "                               frames=150, interval=20, \n",
    "                               blit=True, repeat=False)\n",
    "    display(HTML(anim.to_jshtml()))\n",
    "    return "
   ]
  },
  {
   "cell_type": "code",
   "execution_count": 7,
   "metadata": {
    "deletable": false,
    "editable": false,
    "hide_input": true
   },
   "outputs": [],
   "source": [
    "#Definição dos botões para simulação\n",
    "def button_static_click(b):\n",
    "    button_anim.disabled = False\n",
    "    clear_output(wait=True)\n",
    "    display(button_static)\n",
    "    simulacao()        \n",
    "    return\n",
    "\n",
    "button_static = widgets.Button(\n",
    "    description='Simular (estático)',\n",
    "    disabled=False,\n",
    "    button_style='info', # 'success', 'info', 'warning', 'danger' or ''\n",
    "    tooltip='Simular',\n",
    "    icon='gear' # (FontAwesome names without the `fa-` prefix)\n",
    ")\n",
    "\n",
    "button_static.on_click(button_static_click)\n",
    "\n",
    "def button_anim_click(b):\n",
    "    b.disabled = True\n",
    "    clear_output(wait=True)\n",
    "    display(button_anim)\n",
    "    animate_fig()\n",
    "    b.disabled = False\n",
    "    return\n",
    "\n",
    "button_anim = widgets.Button(\n",
    "    description='Simular (animação)',\n",
    "    disabled=True,\n",
    "    button_style='info', # 'success', 'info', 'warning', 'danger' or ''\n",
    "    tooltip='OBS: execute a simulação estática antes',\n",
    "    icon='gear' # (FontAwesome names without the `fa-` prefix)\n",
    ")\n",
    "\n",
    "button_anim.on_click(button_anim_click)"
   ]
  },
  {
   "cell_type": "code",
   "execution_count": 8,
   "metadata": {
    "deletable": false,
    "editable": false,
    "hide_input": true
   },
   "outputs": [
    {
     "data": {
      "application/vnd.jupyter.widget-view+json": {
       "model_id": "b9d8a2517f6247ac842b0dd5a8b8e2c8",
       "version_major": 2,
       "version_minor": 0
      },
      "text/plain": [
       "Button(button_style='info', description='Simular (estático)', icon='gear', style=ButtonStyle(), tooltip='Simul…"
      ]
     },
     "metadata": {},
     "output_type": "display_data"
    },
    {
     "data": {
      "image/png": "[encoded data removed]",
      "text/plain": [
       "<Figure size 1152x648 with 2 Axes>"
      ]
     },
     "metadata": {
      "needs_background": "light"
     },
     "output_type": "display_data"
    }
   ],
   "source": [
    "display(button_static)"
   ]
  },
  {
   "cell_type": "code",
   "execution_count": 9,
   "metadata": {
    "deletable": false,
    "editable": false,
    "hide_input": true
   },
   "outputs": [
    {
     "data": {
      "application/vnd.jupyter.widget-view+json": {
       "model_id": "eb9c97fde84447ec9a411e59332e4cfc",
       "version_major": 2,
       "version_minor": 0
      },
      "text/plain": [
       "Button(button_style='info', description='Simular (animação)', disabled=True, icon='gear', style=ButtonStyle(),…"
      ]
     },
     "metadata": {},
     "output_type": "display_data"
    }
   ],
   "source": [
    "display(button_anim)"
   ]
  },
  {
   "cell_type": "code",
   "execution_count": null,
   "metadata": {},
   "outputs": [],
   "source": []
  },
  {
   "cell_type": "code",
   "execution_count": null,
   "metadata": {},
   "outputs": [],
   "source": []
  }
 ],
 "metadata": {
  "kernelspec": {
   "display_name": "Python 3",
   "language": "python",
   "name": "python3"
  },
  "language_info": {
   "codemirror_mode": {
    "name": "ipython",
    "version": 3
   },
   "file_extension": ".py",
   "mimetype": "text/x-python",
   "name": "python",
   "nbconvert_exporter": "python",
   "pygments_lexer": "ipython3",
   "version": "3.7.0"
  }
 },
 "nbformat": 4,
 "nbformat_minor": 4
}
